{
 "cells": [
  {
   "cell_type": "code",
   "execution_count": null,
   "id": "51db33e1",
   "metadata": {},
   "outputs": [],
   "source": [
    "import pandas as pd\n",
    "import re\n",
    "from collections import Counter"
   ]
  },
  {
   "cell_type": "code",
   "execution_count": null,
   "id": "e0f5eca3",
   "metadata": {},
   "outputs": [
    {
     "ename": "",
     "evalue": "",
     "output_type": "error",
     "traceback": [
      "\u001b[1;31mRunning cells with 'Python 3.13.5' requires the ipykernel package.\n",
      "\u001b[1;31mInstall 'ipykernel' into the Python environment. \n",
      "\u001b[1;31mCommand: 'c:/Users/vdela/Documents/vast-challenge3-2025/.venv/Scripts/python.exe -m pip install ipykernel -U --user --force-reinstall'"
     ]
    }
   ],
   "source": [
    "1+1"
   ]
  },
  {
   "cell_type": "code",
   "execution_count": null,
   "id": "9f646fc6",
   "metadata": {},
   "outputs": [],
   "source": [
    "# Cargar datos\n",
    "df = pd.read_csv('data/nadia_messages_analysis.csv')"
   ]
  },
  {
   "cell_type": "code",
   "execution_count": null,
   "id": "ab43ec9a",
   "metadata": {},
   "outputs": [],
   "source": [
    "# Asumimos que la columna de texto es la primera\n",
    "text_col = df.columns[0]\n",
    "texts = df[text_col].astype(str).tolist()\n",
    "\n",
    "# Lista básica de stopwords en inglés\n",
    "stopwords = {\n",
    "    'the','and','for','with','that','this','to','in','of','on','a','an','is',\n",
    "    'are','was','were','be','been','by','it','as','at','from','or','if','not',\n",
    "    'but','he','she','they','we','you','i','my','your','our','us','me','his',\n",
    "    'her','their','them','what','which','who','whom','then','there','when',\n",
    "    'where','why','how','all','any','both','each','few','more','most','other',\n",
    "    'some','such','no','nor','too','very','would','could','should','can','will',\n",
    "    'just','so','than','also'\n",
    "}\n",
    "\n",
    "# Preprocesamiento: tokenización, eliminación de stopwords, lematización simple\n",
    "tokens = []\n",
    "for text in texts:\n",
    "    text = text.lower()\n",
    "    words = re.findall(r'\\b[a-z]+\\b', text)\n",
    "    words = [w for w in words if w not in stopwords and len(w) > 2]\n",
    "    # Lemmatización simple: quitar plural 's'\n",
    "    lemmas = [w[:-1] if w.endswith('s') and len(w) > 3 else w for w in words]\n",
    "    tokens.extend(lemmas)\n",
    "\n",
    "# Conteo de frecuencias\n",
    "freq = Counter(tokens)\n",
    "top20 = freq.most_common(20)\n",
    "\n",
    "# Mostrar los 20 tokens más frecuentes\n",
    "df_top20 = pd.DataFrame(top20, columns=['keyword', 'count'])\n",
    "import ace_tools as tools; tools.display_dataframe_to_user('Top 20 keywords', df_top20)\n",
    "\n",
    "# Definición de eventos de corrupción y sus términos semilla\n",
    "events_seeds = {\n",
    "    'destrucción de documentos': ['destroy','delete','remove','erase','document','record'],\n",
    "    'aprobación de permisos': ['permit','license','approve','approval','authoriz'],\n",
    "    'dinero extra': ['money','cash','payment','fee','bonus','gift','fund'],\n",
    "    'acceso especial': ['access','privilege','exclusive','vip','entry'],\n",
    "    'cancelación de permisos': ['cancel','revoke','permit','license'],\n",
    "    'soborno': ['bribe','kickback','payoff','grease'],\n",
    "    'malversación': ['embezzle','misappropri'],\n",
    "    'nepotismo': ['relative','family','appoint','hire'],\n",
    "    'fraude': ['fraud','illegal','scam','deceit'],\n",
    "    'lavado de dinero': ['launder','laundering']\n",
    "}\n",
    "\n",
    "# Mapear cada evento a los keywords encontrados en el texto\n",
    "event_keywords = {}\n",
    "for event, seeds in events_seeds.items():\n",
    "    found = set()\n",
    "    for seed in seeds:\n",
    "        for word in freq:\n",
    "            if seed in word:\n",
    "                found.add(word)\n",
    "    event_keywords[event] = sorted(found)\n",
    "\n",
    "# Mostrar el diccionario de eventos\n",
    "event_keywords\n"
   ]
  }
 ],
 "metadata": {
  "kernelspec": {
   "display_name": ".venv",
   "language": "python",
   "name": "python3"
  },
  "language_info": {
   "name": "python",
   "version": "3.13.5"
  }
 },
 "nbformat": 4,
 "nbformat_minor": 5
}
